{
 "cells": [
  {
   "cell_type": "code",
   "execution_count": null,
   "metadata": {},
   "outputs": [],
   "source": [
    "import pandas as pd\n",
    "import os"
   ]
  },
  {
   "cell_type": "code",
   "execution_count": null,
   "metadata": {},
   "outputs": [],
   "source": [
    "tb_screen_forced_path = '/Volumes/Sameer Mem/TBscreen_Dataset/Forced_coughs/Forced_coughs.csv'\n",
    "tb_screen_passive_path = '/Volumes/Sameer Mem/TBscreen_Dataset/Passive_coughs/Passive_coughs.csv'"
   ]
  },
  {
   "cell_type": "code",
   "execution_count": null,
   "metadata": {},
   "outputs": [],
   "source": [
    "df_forced = pd.read_csv(tb_screen_forced_path)\n",
    "df_passive = pd.read_csv(tb_screen_passive_path)"
   ]
  }
 ],
 "metadata": {
  "language_info": {
   "name": "python"
  },
  "orig_nbformat": 4
 },
 "nbformat": 4,
 "nbformat_minor": 2
}
